{
 "cells": [
  {
   "cell_type": "code",
   "execution_count": 1,
   "id": "38322b8a",
   "metadata": {},
   "outputs": [
    {
     "name": "stdout",
     "output_type": "stream",
     "text": [
      "✅ Total Images Loaded: 8091\n",
      "\n",
      "1000268201_693b08cb0e.jpg → ['a child in a pink dress is climbing up a set of stairs in an entry way', 'a girl going into a wooden building', 'a little girl climbing into a wooden playhouse', 'a little girl climbing the stairs to her playhouse', 'a little girl in a pink dress going into a wooden cabin']\n",
      "1001773457_577c3a7d70.jpg → ['a black dog and a spotted dog are fighting', 'a black dog and a tricolored dog playing with each other on the road', 'a black dog and a white dog with brown spots are staring at each other in the street', 'two dogs of different breeds looking at each other on the road', 'two dogs on pavement moving toward each other']\n",
      "1002674143_1b742ab4b8.jpg → ['a little girl covered in paint sits in front of a painted rainbow with her hands in a bowl', 'a little girl is sitting in front of a large painted rainbow', 'a small girl in the grass plays with fingerpaints in front of a white canvas with a rainbow on it', 'there is a girl with pigtails sitting in front of a rainbow painting', 'young girl with pigtails painting outside in the grass']\n",
      "\n",
      "Cleaned captions saved to: pkl/cleaned_captions.pkl\n"
     ]
    }
   ],
   "source": [
    "import os\n",
    "import re\n",
    "from collections import defaultdict\n",
    "import pickle\n",
    "\n",
    "caption_file = 'data/captions.txt'\n",
    "\n",
    "def load_captions(filename):\n",
    "    \"\"\"\n",
    "    Loads all image captions into a dictionary.\n",
    "    Assumes format: image.jpg,Caption\n",
    "    Skips header line if present.\n",
    "    \"\"\"\n",
    "    captions_dict = defaultdict(list)\n",
    "\n",
    "    with open(filename, 'r', encoding='utf-8') as file:\n",
    "        for line in file:\n",
    "            line = line.strip()\n",
    "            if len(line) == 0 or line.lower().startswith(\"image,caption\"):\n",
    "                continue  # Skip empty lines or header\n",
    "\n",
    "            parts = line.split(',', 1)  # Only split at the first comma\n",
    "            if len(parts) != 2:\n",
    "                continue\n",
    "\n",
    "            image_id = parts[0].strip()\n",
    "            caption = parts[1].strip().replace('\\r', '')\n",
    "\n",
    "            captions_dict[image_id].append(caption)\n",
    "\n",
    "    return captions_dict\n",
    "\n",
    "\n",
    "def clean_caption(caption):\n",
    "    \"\"\"\n",
    "    Lowercase the caption, remove punctuation and numbers.\n",
    "    \"\"\"\n",
    "    caption = caption.lower()\n",
    "    caption = re.sub(r\"[^a-z ]+\", \"\", caption) \n",
    "    caption = caption.strip()\n",
    "    return caption\n",
    "\n",
    "def clean_all_captions(captions_dict):\n",
    "    \"\"\"\n",
    "    Apply cleaning to all captions in the dictionary.\n",
    "    \"\"\"\n",
    "    cleaned = dict()\n",
    "    for img_id, captions in captions_dict.items():\n",
    "        cleaned[img_id] = [clean_caption(c) for c in captions]\n",
    "    return cleaned\n",
    "\n",
    "captions_dict = load_captions(caption_file)\n",
    "cleaned_captions = clean_all_captions(captions_dict)\n",
    "\n",
    "print(f\"✅ Total Images Loaded: {len(cleaned_captions)}\\n\")\n",
    "\n",
    "for i, (img, caps) in enumerate(cleaned_captions.items()):\n",
    "    print(f\"{img} → {caps}\")\n",
    "    if i == 2:\n",
    "        break\n",
    "\n",
    "os.makedirs('pkl', exist_ok=True)\n",
    "\n",
    "output_path = 'pkl/cleaned_captions.pkl'\n",
    "\n",
    "with open(output_path, 'wb') as f:\n",
    "    pickle.dump(cleaned_captions, f)\n",
    "\n",
    "print(f\"\\nCleaned captions saved to: {output_path}\")"
   ]
  },
  {
   "cell_type": "code",
   "execution_count": null,
   "id": "d2950d2e",
   "metadata": {},
   "outputs": [],
   "source": []
  }
 ],
 "metadata": {
  "kernelspec": {
   "display_name": "env",
   "language": "python",
   "name": "python3"
  },
  "language_info": {
   "codemirror_mode": {
    "name": "ipython",
    "version": 3
   },
   "file_extension": ".py",
   "mimetype": "text/x-python",
   "name": "python",
   "nbconvert_exporter": "python",
   "pygments_lexer": "ipython3",
   "version": "3.10.0"
  }
 },
 "nbformat": 4,
 "nbformat_minor": 5
}
