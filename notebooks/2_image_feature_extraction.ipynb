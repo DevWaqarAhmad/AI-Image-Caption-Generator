{
 "cells": [
  {
   "cell_type": "code",
   "execution_count": 1,
   "id": "a5d4d47b",
   "metadata": {},
   "outputs": [
    {
     "name": "stdout",
     "output_type": "stream",
     "text": [
      "Downloading data from https://storage.googleapis.com/tensorflow/keras-applications/inception_v3/inception_v3_weights_tf_dim_ordering_tf_kernels.h5\n",
      "\u001b[1m96112376/96112376\u001b[0m \u001b[32m━━━━━━━━━━━━━━━━━━━━\u001b[0m\u001b[37m\u001b[0m \u001b[1m41s\u001b[0m 0us/step\n",
      "✅ InceptionV3 model loaded.\n",
      "🔍 Found 8091 images. Starting feature extraction...\n"
     ]
    },
    {
     "name": "stderr",
     "output_type": "stream",
     "text": [
      "100%|██████████| 8091/8091 [25:55<00:00,  5.20it/s]\n"
     ]
    },
    {
     "name": "stdout",
     "output_type": "stream",
     "text": [
      "\n",
      "📦 Image features saved to: pkl/image_features.pkl\n"
     ]
    }
   ],
   "source": [
    "import os\n",
    "import numpy as np\n",
    "from tensorflow.keras.applications.inception_v3 import InceptionV3, preprocess_input\n",
    "from tensorflow.keras.preprocessing import image\n",
    "from tensorflow.keras.models import Model\n",
    "from tqdm import tqdm\n",
    "import pickle\n",
    "\n",
    "IMG_DIR = 'data/Images/'\n",
    "OUTPUT_PKL = 'pkl/image_features.pkl'\n",
    "os.makedirs('pkl', exist_ok=True)\n",
    "\n",
    "model = InceptionV3(weights='imagenet')\n",
    "model = Model(inputs=model.input, outputs=model.layers[-2].output) \n",
    "\n",
    "print(\"✅ InceptionV3 model loaded.\")\n",
    "\n",
    "def preprocess_image(img_path):\n",
    "    img = image.load_img(img_path, target_size=(299, 299)) \n",
    "    img_array = image.img_to_array(img)\n",
    "    img_array = np.expand_dims(img_array, axis=0)\n",
    "    img_array = preprocess_input(img_array)\n",
    "    return img_array\n",
    "\n",
    "features = {}\n",
    "\n",
    "image_files = os.listdir(IMG_DIR)\n",
    "print(f\"🔍 Found {len(image_files)} images. Starting feature extraction...\")\n",
    "\n",
    "for img_name in tqdm(image_files):\n",
    "    img_path = os.path.join(IMG_DIR, img_name)\n",
    "    \n",
    "    try:\n",
    "        img_input = preprocess_image(img_path)\n",
    "        feature_vector = model.predict(img_input, verbose=0)\n",
    "        features[img_name] = feature_vector.squeeze()  # shape: (2048,)\n",
    "    except Exception as e:\n",
    "        print(f\"❌ Error processing {img_name}: {e}\")\n",
    "\n",
    "with open(OUTPUT_PKL, 'wb') as f:\n",
    "    pickle.dump(features, f)\n",
    "\n",
    "print(f\"\\n📦 Image features saved to: {OUTPUT_PKL}\")\n"
   ]
  },
  {
   "cell_type": "code",
   "execution_count": null,
   "id": "93641805",
   "metadata": {},
   "outputs": [],
   "source": []
  }
 ],
 "metadata": {
  "kernelspec": {
   "display_name": "env",
   "language": "python",
   "name": "python3"
  },
  "language_info": {
   "codemirror_mode": {
    "name": "ipython",
    "version": 3
   },
   "file_extension": ".py",
   "mimetype": "text/x-python",
   "name": "python",
   "nbconvert_exporter": "python",
   "pygments_lexer": "ipython3",
   "version": "3.10.0"
  }
 },
 "nbformat": 4,
 "nbformat_minor": 5
}
